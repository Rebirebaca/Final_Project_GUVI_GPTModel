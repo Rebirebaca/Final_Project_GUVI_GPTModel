{
 "cells": [
  {
   "cell_type": "code",
   "execution_count": 22,
   "metadata": {},
   "outputs": [],
   "source": [
    "import mysql.connector"
   ]
  },
  {
   "cell_type": "code",
   "execution_count": 23,
   "metadata": {},
   "outputs": [],
   "source": [
    "import mysql.connector\n",
    "\n",
    "mydb = mysql.connector.connect(\n",
    "  host = \"gateway01.us-east-1.prod.aws.tidbcloud.com\",\n",
    "  port = 4000,\n",
    "  user = \"2JDPogwqN11wk2n.root\",\n",
    "  password = \"C3cQvJFFlFpzPRrR\",\n",
    "  database = \"test\",\n",
    "  ssl_ca = \"/etc/ssl/cert.pem\",\n",
    "  ssl_verify_cert = True,\n",
    "  ssl_verify_identity = True\n",
    ")\n",
    "\n",
    "mycursor = mydb.cursor(buffered=True)"
   ]
  },
  {
   "cell_type": "code",
   "execution_count": 25,
   "metadata": {},
   "outputs": [],
   "source": [
    "mycursor.execute(\"CREATE DATABASE IF NOT EXISTS test\")\n",
    "mycursor.execute('USE test')"
   ]
  },
  {
   "cell_type": "code",
   "execution_count": 26,
   "metadata": {},
   "outputs": [],
   "source": [
    "mycursor.execute('''CREATE TABLE IF NOT EXISTS user_info(\n",
    "                  id INT AUTO_INCREMENT PRIMARY KEY,\n",
    "                 username VARCHAR(50) UNIQUE NOT NULL,\n",
    "                 password VARCHAR(155) NOT NULL,\n",
    "                 email VARCHAR(255) UNIQUE NOT NULL ,\n",
    "                 registered_date TIMESTAMP,\n",
    "                 last_login TIMESTAMP); ''')"
   ]
  },
  {
   "cell_type": "code",
   "execution_count": null,
   "metadata": {},
   "outputs": [],
   "source": [
    "mydb = mysql.connector.connect(\n",
    "    host='host url', # Replace with your TiDB host URL\n",
    "    port=4000,\n",
    "    user='username', # Replace with your TiDB username\n",
    "    password='password'  # Replace with your TiDB password\n",
    ")\n",
    "mycursor = mydb.cursor(buffered=True)"
   ]
  },
  {
   "cell_type": "code",
   "execution_count": 24,
   "metadata": {},
   "outputs": [],
   "source": [
    "mycursor.execute(\"DROP TABLE user_info\")\n"
   ]
  },
  {
   "cell_type": "code",
   "execution_count": null,
   "metadata": {},
   "outputs": [],
   "source": []
  },
  {
   "cell_type": "code",
   "execution_count": null,
   "metadata": {},
   "outputs": [],
   "source": []
  }
 ],
 "metadata": {
  "kernelspec": {
   "display_name": ".venv",
   "language": "python",
   "name": "python3"
  },
  "language_info": {
   "codemirror_mode": {
    "name": "ipython",
    "version": 3
   },
   "file_extension": ".py",
   "mimetype": "text/x-python",
   "name": "python",
   "nbconvert_exporter": "python",
   "pygments_lexer": "ipython3",
   "version": "3.11.0"
  }
 },
 "nbformat": 4,
 "nbformat_minor": 2
}
